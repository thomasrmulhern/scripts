{
 "cells": [
  {
   "cell_type": "code",
   "execution_count": 142,
   "metadata": {},
   "outputs": [],
   "source": [
    "import numpy as np\n",
    "import matplotlib.pyplot as plt\n",
    "import pandas as pd\n",
    "import statsmodels as sm\n",
    "%matplotlib inline\n",
    "from sklearn.preprocessing import MinMaxScaler, StandardScaler, Normalizer, Binarizer"
   ]
  },
  {
   "cell_type": "markdown",
   "metadata": {},
   "source": [
    "# Prepare data for Machine Learning"
   ]
  },
  {
   "cell_type": "code",
   "execution_count": 183,
   "metadata": {},
   "outputs": [],
   "source": [
    "#Scripts for preprocessing data for machine learning\n",
    "#Borrowed heavily from https://machinelearningmastery.com/prepare-data-machine-learning-python-scikit-learn/\n",
    "\n",
    "\n",
    "def prepare_data_from_csv(file_path_as_string, y_column_name, column_names=None, header=0):\n",
    "    \n",
    "    '''Import and prepare data'''\n",
    "    \n",
    "    dataframe = pd.read_csv(file_path_as_string, names=column_names, delimiter=',',header=header)\n",
    "    if header != None:\n",
    "        dataframe.columns = [x.replace(' ', '_') for x in dataframe.columns]\n",
    "    print(dataframe.head())\n",
    "    \n",
    "    X = dataframe.drop(y_column_name, axis=1)\n",
    "    y = dataframe[y_column_name]\n",
    "    \n",
    "    prepared_df = dataframe\n",
    "    return prepared_df, X, y\n",
    "\n",
    "\n",
    "def describe_data(prepared_df):\n",
    "    \n",
    "    ''' Print shape and descriptive statistics\n",
    "        Returns printed shape and descriptive statistics\n",
    "    '''\n",
    "    \n",
    "    print('Shape: ','\\n'+'--'*25 + f'\\n{prepared_df.shape}')\n",
    "    print('--'*25)\n",
    "    print('Nulls: ', '\\n'+'--'*25 + f'\\n{prepared_df.isnull().sum()}')\n",
    "    print('--'*25, '\\n'+'--'*25)\n",
    "    print('Describe: ', '\\n'+'--'*25 + f'\\n{prepared_df.describe()}')\n",
    "    print('--'*25, '\\n'+'--'*25)\n",
    "    \n",
    "def rescale_data(X): \n",
    "    \n",
    "    '''Rescale data to range from 0 to 1 \n",
    "        Returns: scaler and rescaledX'''\n",
    "    \n",
    "    scaler = MinMaxScaler(feature_range=(0, 1))\n",
    "    rescaledX = scaler.fit_transform(X)\n",
    "    \n",
    "    # summarize transformed data\n",
    "    np.set_printoptions(precision=3)\n",
    "    print(rescaledX[0:5,:])\n",
    "    \n",
    "    return scaler, rescaledX\n",
    "\n",
    "\n",
    "def standardize_data(X):\n",
    "    \n",
    "    ''''''\n",
    "    \n",
    "    stand_scaler = StandardScaler().fit(X)\n",
    "    stand_rescaledX = scaler.transform(X)\n",
    "    \n",
    "    # summarize transformed data\n",
    "    np.set_printoptions(precision=3)\n",
    "    print(rescaledX[0:5,:])\n",
    "    \n",
    "    return stand_scaler, stand_rescaledX\n",
    "\n",
    "    \n",
    "    \n",
    "def normalize_data(X):\n",
    "    \n",
    "    '''rescaling each observation (row) to have a length of 1 (called a unit norm in linear algebra). This \n",
    "    preprocessing can be useful for sparse datasets (lots of zeros) with attributes of varying scales when \n",
    "    using algorithms that weight input values such as neural networks and algorithms that use distance measures \n",
    "    such as K-Nearest Neighbors.\n",
    "    \n",
    "    Input: data\n",
    "    Return: normalizedX(df)'''\n",
    "    \n",
    "    scaler = Normalizer().fit(X)\n",
    "    normalizedX = scaler.transform(X)\n",
    "    \n",
    "    # summarize transformed data\n",
    "    np.set_printoptions(precision=3)\n",
    "    print(normalizedX[0:5,:])\n",
    "    \n",
    "    return scaler, normalizedX\n",
    "    \n",
    "def binarize_data(X):\n",
    "    \n",
    "    binarizer = Binarizer(threshold=0.0).fit(X)\n",
    "    binaryX = binarizer.transform(X)\n",
    "    \n",
    "    # summarize transformed data\n",
    "    np.set_printoptions(precision=3)\n",
    "    print(binaryX[0:5,:])\n",
    "    \n",
    "    return binarizer, binaryX"
   ]
  },
  {
   "cell_type": "code",
   "execution_count": null,
   "metadata": {},
   "outputs": [],
   "source": []
  },
  {
   "cell_type": "code",
   "execution_count": 184,
   "metadata": {},
   "outputs": [
    {
     "name": "stdout",
     "output_type": "stream",
     "text": [
      "   preg  plas  pres  skin  test  mass   pedi  age  class\n",
      "0     1    85    66    29     0  26.6  0.351   31      0\n",
      "1     8   183    64     0     0  23.3  0.672   32      1\n",
      "2     1    89    66    23    94  28.1  0.167   21      0\n",
      "3     0   137    40    35   168  43.1  2.288   33      1\n",
      "4     5   116    74     0     0  25.6  0.201   30      0\n"
     ]
    }
   ],
   "source": [
    "names = ['preg', 'plas', 'pres', 'skin', 'test', 'mass', 'pedi', 'age', 'class']\n",
    "prepared_df, X, y = prepare_data_from_csv('pima-indians-diabetes.data copy.csv', 'class', column_names=names, header=0)"
   ]
  },
  {
   "cell_type": "code",
   "execution_count": 185,
   "metadata": {},
   "outputs": [
    {
     "name": "stdout",
     "output_type": "stream",
     "text": [
      "Shape:  \n",
      "--------------------------------------------------\n",
      "(767, 9)\n",
      "--------------------------------------------------\n",
      "Nulls:  \n",
      "--------------------------------------------------\n",
      "preg     0\n",
      "plas     0\n",
      "pres     0\n",
      "skin     0\n",
      "test     0\n",
      "mass     0\n",
      "pedi     0\n",
      "age      0\n",
      "class    0\n",
      "dtype: int64\n",
      "-------------------------------------------------- \n",
      "--------------------------------------------------\n",
      "Describe:  \n",
      "--------------------------------------------------\n",
      "             preg        plas        pres        skin        test        mass  \\\n",
      "count  767.000000  767.000000  767.000000  767.000000  767.000000  767.000000   \n",
      "mean     3.842243  120.859192   69.101695   20.517601   79.903520   31.990482   \n",
      "std      3.370877   31.978468   19.368155   15.954059  115.283105    7.889091   \n",
      "min      0.000000    0.000000    0.000000    0.000000    0.000000    0.000000   \n",
      "25%      1.000000   99.000000   62.000000    0.000000    0.000000   27.300000   \n",
      "50%      3.000000  117.000000   72.000000   23.000000   32.000000   32.000000   \n",
      "75%      6.000000  140.000000   80.000000   32.000000  127.500000   36.600000   \n",
      "max     17.000000  199.000000  122.000000   99.000000  846.000000   67.100000   \n",
      "\n",
      "             pedi         age       class  \n",
      "count  767.000000  767.000000  767.000000  \n",
      "mean     0.471674   33.219035    0.348110  \n",
      "std      0.331497   11.752296    0.476682  \n",
      "min      0.078000   21.000000    0.000000  \n",
      "25%      0.243500   24.000000    0.000000  \n",
      "50%      0.371000   29.000000    0.000000  \n",
      "75%      0.625000   41.000000    1.000000  \n",
      "max      2.420000   81.000000    1.000000  \n",
      "-------------------------------------------------- \n",
      "--------------------------------------------------\n"
     ]
    }
   ],
   "source": [
    "describe_data(prepared_df)"
   ]
  },
  {
   "cell_type": "code",
   "execution_count": 189,
   "metadata": {},
   "outputs": [
    {
     "name": "stdout",
     "output_type": "stream",
     "text": [
      "[[0.059 0.427 0.541 0.293 0.    0.396 0.117 0.167]\n",
      " [0.471 0.92  0.525 0.    0.    0.347 0.254 0.183]\n",
      " [0.059 0.447 0.541 0.232 0.111 0.419 0.038 0.   ]\n",
      " [0.    0.688 0.328 0.354 0.199 0.642 0.944 0.2  ]\n",
      " [0.294 0.583 0.607 0.    0.    0.382 0.053 0.15 ]]\n"
     ]
    }
   ],
   "source": [
    "resc_x = rescale_data(X)"
   ]
  },
  {
   "cell_type": "code",
   "execution_count": 190,
   "metadata": {},
   "outputs": [
    {
     "name": "stdout",
     "output_type": "stream",
     "text": [
      "[[0.353 0.744 0.59  0.354 0.    0.501 0.234 0.483]\n",
      " [0.059 0.427 0.541 0.293 0.    0.396 0.117 0.167]\n",
      " [0.471 0.92  0.525 0.    0.    0.347 0.254 0.183]\n",
      " [0.059 0.447 0.541 0.232 0.111 0.419 0.038 0.   ]\n",
      " [0.    0.688 0.328 0.354 0.199 0.642 0.944 0.2  ]]\n"
     ]
    }
   ],
   "source": [
    "stand_x = standardize_data(X)"
   ]
  },
  {
   "cell_type": "code",
   "execution_count": 191,
   "metadata": {},
   "outputs": [
    {
     "name": "stdout",
     "output_type": "stream",
     "text": [
      "[[0.008 0.716 0.556 0.244 0.    0.224 0.003 0.261]\n",
      " [0.04  0.924 0.323 0.    0.    0.118 0.003 0.162]\n",
      " [0.007 0.588 0.436 0.152 0.622 0.186 0.001 0.139]\n",
      " [0.    0.596 0.174 0.152 0.731 0.188 0.01  0.144]\n",
      " [0.035 0.81  0.517 0.    0.    0.179 0.001 0.209]]\n"
     ]
    }
   ],
   "source": [
    "norm_x = normalize_data(X)"
   ]
  },
  {
   "cell_type": "code",
   "execution_count": 192,
   "metadata": {},
   "outputs": [
    {
     "name": "stdout",
     "output_type": "stream",
     "text": [
      "[[1. 1. 1. 1. 0. 1. 1. 1.]\n",
      " [1. 1. 1. 0. 0. 1. 1. 1.]\n",
      " [1. 1. 1. 1. 1. 1. 1. 1.]\n",
      " [0. 1. 1. 1. 1. 1. 1. 1.]\n",
      " [1. 1. 1. 0. 0. 1. 1. 1.]]\n"
     ]
    }
   ],
   "source": [
    "bin_x = binarize_data(X)"
   ]
  },
  {
   "cell_type": "code",
   "execution_count": null,
   "metadata": {},
   "outputs": [],
   "source": []
  },
  {
   "cell_type": "code",
   "execution_count": null,
   "metadata": {},
   "outputs": [],
   "source": []
  }
 ],
 "metadata": {
  "kernelspec": {
   "display_name": "Python 3",
   "language": "python",
   "name": "python3"
  },
  "language_info": {
   "codemirror_mode": {
    "name": "ipython",
    "version": 3
   },
   "file_extension": ".py",
   "mimetype": "text/x-python",
   "name": "python",
   "nbconvert_exporter": "python",
   "pygments_lexer": "ipython3",
   "version": "3.6.5"
  }
 },
 "nbformat": 4,
 "nbformat_minor": 2
}
